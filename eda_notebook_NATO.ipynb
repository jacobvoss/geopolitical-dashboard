{
 "cells": [
  {
   "cell_type": "code",
   "execution_count": 9,
   "id": "18a0d308-2852-4b69-b871-a2e1b19a83b4",
   "metadata": {},
   "outputs": [
    {
     "name": "stdout",
     "output_type": "stream",
     "text": [
      "              2014      2015      2016      2017      2018      2019  \\\n",
      "Country                                                                \n",
      "Albania   1.346517  1.162313  1.103606  1.109129  1.160531  1.280802   \n",
      "Belgium   0.971016  0.909300  0.894691  0.883573  0.891360  0.888422   \n",
      "Bulgaria  1.309083  1.246351  1.243596  1.221938  1.449185  3.133419   \n",
      "Canada    1.006365  1.200725  1.158918  1.436997  1.298264  1.294475   \n",
      "Croatia   1.811929  1.748626  1.586554  1.629346  1.537622  1.593349   \n",
      "\n",
      "              2020      2021      2022     2023e     2024e  \n",
      "Country                                                     \n",
      "Albania   1.295841  1.242994  1.208789  1.746793  2.029468  \n",
      "Belgium   1.012378  1.038775  1.182366  1.208516  1.299161  \n",
      "Bulgaria  1.593666  1.517146  1.592290  1.960129  2.178667  \n",
      "Canada    1.409079  1.270352  1.198141  1.307933  1.365155  \n",
      "Croatia   1.689140  1.954733  1.782631  1.742363  1.806586  \n"
     ]
    }
   ],
   "source": [
    "import pandas as pd\n",
    "\n",
    "# Load the Excel file, skipping the first 7 rows as before\n",
    "file_path = \"data/240617-def-exp-2024-TABLES-en.xlsx\"\n",
    "df_raw = pd.read_excel(file_path, sheet_name=\"TABLE3\", skiprows=7)\n",
    "\n",
    "# Drop the first two rows of data (they're not actual data rows)\n",
    "df = df_raw.iloc[2:].copy()\n",
    "\n",
    "# Rename the country column\n",
    "df.rename(columns={\"Unnamed: 2\": \"Country\"}, inplace=True)\n",
    "\n",
    "# Drop unnecessary columns\n",
    "df.drop(columns=[\"Unnamed: 0\", \"Unnamed: 1\"], inplace=True)\n",
    "\n",
    "# Drop rows where Country is NaN\n",
    "df.dropna(subset=[\"Country\"], inplace=True)\n",
    "\n",
    "# Strip asterisks from country names (e.g., \"Czechia*\")\n",
    "df[\"Country\"] = df[\"Country\"].str.replace(\"*\", \"\", regex=False).str.strip()\n",
    "\n",
    "# Filter for NATO countries\n",
    "nato_countries = [\n",
    "    \"United States of America\", \"Canada\", \"United Kingdom\", \"France\", \"Germany\", \"Italy\", \"Spain\", \n",
    "    \"Norway\", \"Denmark\", \"Netherlands\", \"Belgium\", \"Portugal\", \"Greece\", \"Türkiye\",\n",
    "    \"Poland\", \"Hungary\", \"Czechia\", \"Slovakia\", \"Slovenia\", \"Croatia\",\n",
    "    \"Bulgaria\", \"Romania\", \"Estonia\", \"Latvia\", \"Lithuania\", \"Albania\", \"Montenegro\",\n",
    "    \"North Macedonia\", \"Iceland\", \"Luxembourg\", \"Finland\", \"Sweden\"\n",
    "]\n",
    "df_nato = df[df[\"Country\"].isin(nato_countries)]\n",
    "\n",
    "# Set country as index\n",
    "df_nato.set_index(\"Country\", inplace=True)\n",
    "\n",
    "# Convert all year columns to numeric\n",
    "df_nato = df_nato.apply(pd.to_numeric, errors=\"coerce\")\n",
    "\n",
    "# Preview the clean dataframe\n",
    "print(df_nato.head())\n"
   ]
  },
  {
   "cell_type": "code",
   "execution_count": 10,
   "id": "17cff6c6-96eb-40ed-bf86-7b06add5d30e",
   "metadata": {},
   "outputs": [],
   "source": [
    "df_nato.to_csv(\"nato_defense_spending_clean.csv\")"
   ]
  },
  {
   "cell_type": "code",
   "execution_count": null,
   "id": "7819757a-8eb6-485b-8c2f-b4ff79ac8849",
   "metadata": {},
   "outputs": [],
   "source": []
  }
 ],
 "metadata": {
  "kernelspec": {
   "display_name": "Python 3 (ipykernel)",
   "language": "python",
   "name": "python3"
  },
  "language_info": {
   "codemirror_mode": {
    "name": "ipython",
    "version": 3
   },
   "file_extension": ".py",
   "mimetype": "text/x-python",
   "name": "python",
   "nbconvert_exporter": "python",
   "pygments_lexer": "ipython3",
   "version": "3.12.9"
  }
 },
 "nbformat": 4,
 "nbformat_minor": 5
}

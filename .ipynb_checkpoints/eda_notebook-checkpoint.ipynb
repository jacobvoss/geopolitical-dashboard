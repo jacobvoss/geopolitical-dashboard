{
 "cells": [
  {
   "cell_type": "code",
   "execution_count": 1,
   "id": "168394f3-df5c-410c-8668-ad68acbef590",
   "metadata": {},
   "outputs": [
    {
     "name": "stdout",
     "output_type": "stream",
     "text": [
      "Index([   'Country', 'Unnamed: 1',      'Notes',         1949,         1950,\n",
      "               1951,         1952,         1953,         1954,         1955,\n",
      "               1956,         1957,         1958,         1959,         1960,\n",
      "               1961,         1962,         1963,         1964,         1965,\n",
      "               1966,         1967,         1968,         1969,         1970,\n",
      "               1971,         1972,         1973,         1974,         1975,\n",
      "               1976,         1977,         1978,         1979,         1980,\n",
      "               1981,         1982,         1983,         1984,         1985,\n",
      "               1986,         1987,         1988,         1989,         1990,\n",
      "               1991,         1992,         1993,         1994,         1995,\n",
      "               1996,         1997,         1998,         1999,         2000,\n",
      "               2001,         2002,         2003,         2004,         2005,\n",
      "               2006,         2007,         2008,         2009,         2010,\n",
      "               2011,         2012,         2013,         2014,         2015,\n",
      "               2016,         2017,         2018,         2019,         2020,\n",
      "               2021,         2022,         2023,         2024],\n",
      "      dtype='object')\n",
      "        Country  Unnamed: 1  Notes 1949 1950 1951 1952 1953 1954 1955  ...  \\\n",
      "0           NaN         NaN    NaN  NaN  NaN  NaN  NaN  NaN  NaN  NaN  ...   \n",
      "1        Africa         NaN    NaN  NaN  NaN  NaN  NaN  NaN  NaN  NaN  ...   \n",
      "2  North Africa         NaN    NaN  NaN  NaN  NaN  NaN  NaN  NaN  NaN  ...   \n",
      "3       Algeria         NaN     §4  ...  ...  ...  ...  ...  ...  ...  ...   \n",
      "4         Libya         NaN  ‡§¶16  ...  ...  ...  ...  ...  ...  ...  ...   \n",
      "\n",
      "           2015          2016         2017          2018          2019  \\\n",
      "0           NaN           NaN          NaN           NaN           NaN   \n",
      "1           NaN           NaN          NaN           NaN           NaN   \n",
      "2           NaN           NaN          NaN           NaN           NaN   \n",
      "3  12061.301802  12097.301651  11456.74193  10987.573613  11853.728802   \n",
      "4           ...           ...          ...           ...           ...   \n",
      "\n",
      "           2020         2021         2022          2023          2024  \n",
      "0           NaN          NaN          NaN           NaN           NaN  \n",
      "1           NaN          NaN          NaN           NaN           NaN  \n",
      "2           NaN          NaN          NaN           NaN           NaN  \n",
      "3  11577.302066  10794.20102  10441.08481  18263.967968  20423.216125  \n",
      "4           ...          ...  1254.746073   1573.682777           ...  \n",
      "\n",
      "[5 rows x 79 columns]\n"
     ]
    }
   ],
   "source": [
    "import pandas as pd\n",
    "\n",
    "# Path to your SIPRI file\n",
    "file_path = \"data/SIPRI-Milex-data-1949-2024_2.xlsx\"\n",
    "\n",
    "# Load and skip the first 5 rows (which are metadata)\n",
    "df = pd.read_excel(file_path, sheet_name=\"Constant (2023) US$\", skiprows=5)\n",
    "\n",
    "# Check structure\n",
    "print(df.columns)\n",
    "print(df.head())\n"
   ]
  },
  {
   "cell_type": "code",
   "execution_count": 2,
   "id": "ae654a16-7cb5-46b9-ad91-1f6da106a056",
   "metadata": {},
   "outputs": [],
   "source": [
    "# Drop rows where Country is NaN or is a region (like \"Africa\")\n",
    "df_clean = df.dropna(subset=[\"Country\"])\n",
    "\n",
    "# Optionally remove regional aggregates\n",
    "regions = ['Africa', 'North Africa', 'Sub-Saharan Africa', 'Americas', 'Asia and Oceania', 'Europe', \n",
    "           'Middle East', 'NATO', 'EU', 'World', 'Other Europe']\n",
    "df_clean = df_clean[~df_clean[\"Country\"].isin(regions)]\n",
    "\n",
    "# Drop unnecessary columns\n",
    "df_clean = df_clean.drop(columns=[\"Unnamed: 1\", \"Notes\"], errors='ignore')\n",
    "\n",
    "# Focus on NATO countries only\n",
    "nato_countries = [\n",
    "    \"United States\", \"Canada\", \"United Kingdom\", \"France\", \"Germany\", \"Italy\", \"Spain\", \n",
    "    \"Norway\", \"Denmark\", \"Netherlands\", \"Belgium\", \"Portugal\", \"Greece\", \"Turkey\",\n",
    "    \"Poland\", \"Hungary\", \"Czech Republic\", \"Slovakia\", \"Slovenia\", \"Croatia\",\n",
    "    \"Bulgaria\", \"Romania\", \"Estonia\", \"Latvia\", \"Lithuania\", \"Albania\", \"Montenegro\",\n",
    "    \"North Macedonia\", \"Iceland\", \"Luxembourg\"\n",
    "]\n",
    "df_nato = df_clean[df_clean[\"Country\"].isin(nato_countries)]\n",
    "\n",
    "# Convert year columns to numeric\n",
    "df_nato = df_nato.set_index(\"Country\")\n",
    "df_nato = df_nato.apply(pd.to_numeric, errors='coerce')\n"
   ]
  }
 ],
 "metadata": {
  "kernelspec": {
   "display_name": "Python 3 (ipykernel)",
   "language": "python",
   "name": "python3"
  },
  "language_info": {
   "codemirror_mode": {
    "name": "ipython",
    "version": 3
   },
   "file_extension": ".py",
   "mimetype": "text/x-python",
   "name": "python",
   "nbconvert_exporter": "python",
   "pygments_lexer": "ipython3",
   "version": "3.12.9"
  }
 },
 "nbformat": 4,
 "nbformat_minor": 5
}

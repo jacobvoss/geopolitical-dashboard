{
 "cells": [
  {
   "cell_type": "code",
   "execution_count": null,
   "id": "18a0d308-2852-4b69-b871-a2e1b19a83b4",
   "metadata": {},
   "outputs": [],
   "source": [
    "import pandas as pd\n",
    "\n",
    "# Path to your SIPRI file\n",
    "file_path = \"data/240617-def-exp-2024-TABLES-en.xlsx\"\n",
    "\n",
    "# Load and skip the first 5 rows (which are metadata)\n",
    "df = pd.read_excel(file_path, sheet_name=\"TABLE3\", skiprows=7)\n",
    "\n",
    "# Check structure\n",
    "print(df.columns)\n",
    "print(df.head())\n"
   ]
  }
 ],
 "metadata": {
  "kernelspec": {
   "display_name": "Python 3 (ipykernel)",
   "language": "python",
   "name": "python3"
  },
  "language_info": {
   "codemirror_mode": {
    "name": "ipython",
    "version": 3
   },
   "file_extension": ".py",
   "mimetype": "text/x-python",
   "name": "python",
   "nbconvert_exporter": "python",
   "pygments_lexer": "ipython3",
   "version": "3.12.9"
  }
 },
 "nbformat": 4,
 "nbformat_minor": 5
}
